{
 "cells": [
  {
   "cell_type": "code",
   "execution_count": 2,
   "metadata": {},
   "outputs": [],
   "source": [
    "import numpy as np\n",
    "import pandas as pd\n"
   ]
  },
  {
   "cell_type": "code",
   "execution_count": 3,
   "metadata": {},
   "outputs": [
    {
     "name": "stderr",
     "output_type": "stream",
     "text": [
      "/var/folders/bd/sbl18k4d4h514z7k4t21vbfw0000gn/T/ipykernel_40961/2845674233.py:1: DtypeWarning: Columns (6,7,9) have mixed types. Specify dtype option on import or set low_memory=False.\n",
      "  df = pd.read_csv('AgeDataset-V1.csv', sep=',', header=None)\n"
     ]
    }
   ],
   "source": [
    "df = pd.read_csv('AgeDataset-V1.csv', sep=',', header=None)"
   ]
  },
  {
   "cell_type": "code",
   "execution_count": 10,
   "metadata": {},
   "outputs": [
    {
     "name": "stdout",
     "output_type": "stream",
     "text": [
      "      0                        1  \\\n",
      "0    Id                     Name   \n",
      "1   Q23        George Washington   \n",
      "2   Q42            Douglas Adams   \n",
      "3   Q91          Abraham Lincoln   \n",
      "4  Q254  Wolfgang Amadeus Mozart   \n",
      "\n",
      "                                                 2       3  \\\n",
      "0                                Short description  Gender   \n",
      "1   1st president of the United States (1732–1799)    Male   \n",
      "2                      English writer and humorist    Male   \n",
      "3  16th president of the United States (1809-1865)    Male   \n",
      "4        Austrian composer of the Classical period    Male   \n",
      "\n",
      "                                                   4           5           6  \\\n",
      "0                                            Country  Occupation  Birth year   \n",
      "1  United States of America; Kingdom of Great Bri...  Politician        1732   \n",
      "2                                     United Kingdom      Artist        1952   \n",
      "3                           United States of America  Politician        1809   \n",
      "4    Archduchy of Austria; Archbishopric of Salzburg      Artist        1756   \n",
      "\n",
      "            7                8             9  \n",
      "0  Death year  Manner of death  Age of death  \n",
      "1        1799   natural causes            67  \n",
      "2        2001   natural causes            49  \n",
      "3        1865         homicide            56  \n",
      "4        1791              NaN            35  \n"
     ]
    }
   ],
   "source": [
    "\n",
    "print(df.head())\n"
   ]
  },
  {
   "cell_type": "code",
   "execution_count": null,
   "metadata": {},
   "outputs": [],
   "source": []
  },
  {
   "cell_type": "code",
   "execution_count": 14,
   "metadata": {},
   "outputs": [
    {
     "data": {
      "text/plain": [
       "0                                                  Q23\n",
       "1                                    George Washington\n",
       "2       1st president of the United States (1732–1799)\n",
       "3                                                 Male\n",
       "4    United States of America; Kingdom of Great Bri...\n",
       "5                                           Politician\n",
       "6                                                 1732\n",
       "7                                                 1799\n",
       "8                                       natural causes\n",
       "9                                                   67\n",
       "Name: 1, dtype: object"
      ]
     },
     "execution_count": 14,
     "metadata": {},
     "output_type": "execute_result"
    }
   ],
   "source": []
  },
  {
   "cell_type": "code",
   "execution_count": null,
   "metadata": {},
   "outputs": [],
   "source": []
  }
 ],
 "metadata": {
  "kernelspec": {
   "display_name": "Python 3",
   "language": "python",
   "name": "python3"
  },
  "language_info": {
   "codemirror_mode": {
    "name": "ipython",
    "version": 3
   },
   "file_extension": ".py",
   "mimetype": "text/x-python",
   "name": "python",
   "nbconvert_exporter": "python",
   "pygments_lexer": "ipython3",
   "version": "3.11.5"
  },
  "orig_nbformat": 4,
  "vscode": {
   "interpreter": {
    "hash": "b0fa6594d8f4cbf19f97940f81e996739fb7646882a419484c72d19e05852a7e"
   }
  }
 },
 "nbformat": 4,
 "nbformat_minor": 2
}
